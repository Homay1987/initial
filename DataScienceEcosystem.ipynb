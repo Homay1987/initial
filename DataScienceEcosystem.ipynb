{
 "cells": [
  {
   "cell_type": "markdown",
   "id": "37dc45cb-edb3-4a61-8c33-6a4a832457e0",
   "metadata": {},
   "source": [
    "# Data Science Tools and Ecosystem "
   ]
  },
  {
   "cell_type": "markdown",
   "id": "57b541ab-4983-4424-a780-c9719257f48f",
   "metadata": {},
   "source": [
    "In this notebook, Data Science Tools and Ecosystems are summarized."
   ]
  },
  {
   "cell_type": "markdown",
   "id": "f1eb67fe-1a98-46cb-88aa-8ec203ede9af",
   "metadata": {},
   "source": [
    "**Objectives**\n",
    "+ Popular languages in Data Science\n",
    "+ GitHub\n",
    "+ Jupyter Notebook\n",
    "+ Packages used in R for data visualization"
   ]
  },
  {
   "cell_type": "markdown",
   "id": "a8bde42e-52cf-478d-9fdd-22179744c229",
   "metadata": {},
   "source": [
    "Some of the popular languages that Data Sceintists use are:\n",
    "1. Python\n",
    "2. R\n",
    "3. SQL"
   ]
  },
  {
   "cell_type": "markdown",
   "id": "a07d2fcf-7891-4dc8-a62a-02cb88cd39d4",
   "metadata": {},
   "source": [
    "Some of the commonly used libraries used by Data Scientists include:\n",
    "1. Pandas\n",
    "2. NumPy\n",
    "3. PySpark"
   ]
  },
  {
   "cell_type": "markdown",
   "id": "a4002c96-1551-45a4-8522-bc73efa3df4a",
   "metadata": {},
   "source": [
    "|Data Science Tools|\n",
    "|------------------|\n",
    "Jupyter Notebook\n",
    "Spyder\n",
    "Visual Studio Code"
   ]
  },
  {
   "cell_type": "markdown",
   "id": "4c2ec3b4-1282-437c-9961-4841ba942b72",
   "metadata": {},
   "source": [
    "### Below are a few examples of evaluating arithmetic expressions in Python"
   ]
  },
  {
   "cell_type": "code",
   "execution_count": 10,
   "id": "8d395873-a97c-4dcd-a7d0-c3e76e1f18cb",
   "metadata": {},
   "outputs": [],
   "source": [
    "#This is a simple arithmetic expression to multiply then add integers"
   ]
  },
  {
   "cell_type": "code",
   "execution_count": 5,
   "id": "0e5f1f06-e1db-479d-ba0b-8ceeec3e6a75",
   "metadata": {},
   "outputs": [
    {
     "data": {
      "text/plain": [
       "17"
      ]
     },
     "execution_count": 5,
     "metadata": {},
     "output_type": "execute_result"
    }
   ],
   "source": [
    "(3*4)+5"
   ]
  },
  {
   "cell_type": "code",
   "execution_count": 12,
   "id": "c64cf80b-6290-45d6-b228-9949f6c17c2e",
   "metadata": {},
   "outputs": [],
   "source": [
    "#This will convert 200 minutes to hours by dividing by 60"
   ]
  },
  {
   "cell_type": "code",
   "execution_count": 8,
   "id": "9bab7520-dfa3-45bd-9c9c-42c86732b478",
   "metadata": {},
   "outputs": [
    {
     "data": {
      "text/plain": [
       "3.3333333333333335"
      ]
     },
     "execution_count": 8,
     "metadata": {},
     "output_type": "execute_result"
    }
   ],
   "source": [
    "(200/60)"
   ]
  },
  {
   "cell_type": "markdown",
   "id": "16c8e371-b98c-4614-8ed8-76dc1af821fe",
   "metadata": {},
   "source": [
    "## Author"
   ]
  },
  {
   "cell_type": "markdown",
   "id": "635f8c87-cd91-4649-b45d-07458f3646ef",
   "metadata": {},
   "source": [
    "Homayoun Foroutan"
   ]
  },
  {
   "cell_type": "code",
   "execution_count": null,
   "id": "fffadab7-90dc-4d6e-902e-e7e8fe9f6207",
   "metadata": {},
   "outputs": [],
   "source": []
  }
 ],
 "metadata": {
  "kernelspec": {
   "display_name": "Python 3 (ipykernel)",
   "language": "python",
   "name": "python3"
  },
  "language_info": {
   "codemirror_mode": {
    "name": "ipython",
    "version": 3
   },
   "file_extension": ".py",
   "mimetype": "text/x-python",
   "name": "python",
   "nbconvert_exporter": "python",
   "pygments_lexer": "ipython3",
   "version": "3.12.4"
  }
 },
 "nbformat": 4,
 "nbformat_minor": 5
}
